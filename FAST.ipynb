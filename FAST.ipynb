{
  "nbformat": 4,
  "nbformat_minor": 0,
  "metadata": {
    "colab": {
      "provenance": [],
      "authorship_tag": "ABX9TyPxbWd1Pt8wueMXUl6LNcpR",
      "include_colab_link": true
    },
    "kernelspec": {
      "name": "python3",
      "display_name": "Python 3"
    },
    "language_info": {
      "name": "python"
    }
  },
  "cells": [
    {
      "cell_type": "markdown",
      "metadata": {
        "id": "view-in-github",
        "colab_type": "text"
      },
      "source": [
        "<a href=\"https://colab.research.google.com/github/countsp/SLAM-learning/blob/master/FAST.ipynb\" target=\"_parent\"><img src=\"https://colab.research.google.com/assets/colab-badge.svg\" alt=\"Open In Colab\"/></a>"
      ]
    },
    {
      "cell_type": "code",
      "execution_count": 1,
      "metadata": {
        "id": "5ciDQRHimnpG"
      },
      "outputs": [],
      "source": [
        "import cv2\n",
        "import numpy as np\n",
        "from matplotlib import pyplot as plt\n"
      ]
    },
    {
      "cell_type": "code",
      "source": [
        "img = cv2.imread('path_to_image.jpg', 0)\n",
        "if img is None:\n",
        "    print(\"Error: Image could not be read. Check the path.\")"
      ],
      "metadata": {
        "id": "Gt3FynHTna9M"
      },
      "execution_count": null,
      "outputs": []
    },
    {
      "cell_type": "code",
      "source": [
        "fast = cv2.FastFeatureDetector_create()\n",
        "\n",
        "# 检测关键点\n",
        "keypoints = fast.detect(img, None)\n",
        "\n",
        "# 绘制关键点\n",
        "img_with_keypoints = cv2.drawKeypoints(img, keypoints, None, color=(255,0,0))\n",
        "\n",
        "# 显示图像\n",
        "plt.figure(figsize=(10, 8))\n",
        "plt.imshow(img_with_keypoints, cmap='gray')\n",
        "plt.title(\"FAST Features\")\n",
        "plt.show()"
      ],
      "metadata": {
        "id": "aEPUlXxgncNZ"
      },
      "execution_count": null,
      "outputs": []
    }
  ]
}